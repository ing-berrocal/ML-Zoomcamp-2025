{
 "cells": [
  {
   "cell_type": "code",
   "execution_count": 1,
   "id": "3eb449d2-0578-4a2e-887c-ee708ea4528a",
   "metadata": {},
   "outputs": [],
   "source": [
    "import pickle"
   ]
  },
  {
   "cell_type": "code",
   "execution_count": 4,
   "id": "497e40da-0864-4f27-b90a-5a7c1bac4a69",
   "metadata": {},
   "outputs": [],
   "source": [
    "with open('./model/pipeline_v1.bin', 'rb') as f_in: # very important to use 'rb' here, it means read-binary \n",
    "    pipeline = pickle.load(f_in)"
   ]
  },
  {
   "cell_type": "code",
   "execution_count": 5,
   "id": "7baca6c7-4e95-4df6-95fd-05d55e8a7220",
   "metadata": {},
   "outputs": [],
   "source": [
    "record = {\n",
    "    \"lead_source\": \"paid_ads\",\n",
    "    \"number_of_courses_viewed\": 2,\n",
    "    \"annual_income\": 79276.0\n",
    "}"
   ]
  },
  {
   "cell_type": "code",
   "execution_count": 16,
   "id": "afe5f6c7-8e6a-408e-8684-f8c4bacbb6ca",
   "metadata": {},
   "outputs": [],
   "source": [
    "def predict_test(json_data) :\n",
    "    churn = pipeline.predict_proba(record)[0, 1]\n",
    "    return round(churn,3)"
   ]
  },
  {
   "cell_type": "code",
   "execution_count": 17,
   "id": "cd3e0331-52e4-4a77-985e-a2d49d036380",
   "metadata": {},
   "outputs": [],
   "source": [
    "churn = predict_test(record)"
   ]
  },
  {
   "cell_type": "code",
   "execution_count": 19,
   "id": "b0a7e122-e9dc-451d-8089-52933e14cc29",
   "metadata": {},
   "outputs": [
    {
     "name": "stdout",
     "output_type": "stream",
     "text": [
      "Churn : 0.534\n"
     ]
    }
   ],
   "source": [
    "print(f'Churn : {churn}')"
   ]
  }
 ],
 "metadata": {
  "kernelspec": {
   "display_name": "Python 3 (ipykernel)",
   "language": "python",
   "name": "python3"
  },
  "language_info": {
   "codemirror_mode": {
    "name": "ipython",
    "version": 3
   },
   "file_extension": ".py",
   "mimetype": "text/x-python",
   "name": "python",
   "nbconvert_exporter": "python",
   "pygments_lexer": "ipython3",
   "version": "3.11.14"
  }
 },
 "nbformat": 4,
 "nbformat_minor": 5
}
