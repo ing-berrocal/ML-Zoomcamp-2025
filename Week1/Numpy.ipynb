{
 "cells": [
  {
   "cell_type": "code",
   "execution_count": 1,
   "id": "d67c5b9e-bb38-4dc5-8aac-de8faf6b1de3",
   "metadata": {},
   "outputs": [],
   "source": [
    "import numpy as np"
   ]
  },
  {
   "cell_type": "code",
   "execution_count": 3,
   "id": "2cb4dccb-3284-4337-bb6a-baea024c4175",
   "metadata": {},
   "outputs": [
    {
     "data": {
      "text/plain": [
       "'2.3.3'"
      ]
     },
     "execution_count": 3,
     "metadata": {},
     "output_type": "execute_result"
    }
   ],
   "source": [
    "np.__version__"
   ]
  },
  {
   "cell_type": "code",
   "execution_count": 4,
   "id": "2fccee80-4264-4646-bae2-4346d276b981",
   "metadata": {},
   "outputs": [
    {
     "data": {
      "text/plain": [
       "array([0., 0.])"
      ]
     },
     "execution_count": 4,
     "metadata": {},
     "output_type": "execute_result"
    }
   ],
   "source": [
    "np.zeros(2)"
   ]
  },
  {
   "cell_type": "code",
   "execution_count": 6,
   "id": "4640213d-711a-46ff-8e76-57581ce8a1ce",
   "metadata": {},
   "outputs": [
    {
     "data": {
      "text/plain": [
       "array([[0., 0., 0.],\n",
       "       [0., 0., 0.],\n",
       "       [0., 0., 0.]])"
      ]
     },
     "execution_count": 6,
     "metadata": {},
     "output_type": "execute_result"
    }
   ],
   "source": [
    "np.zeros((3,3))"
   ]
  },
  {
   "cell_type": "code",
   "execution_count": 7,
   "id": "8c4fde79-fd9c-41db-b8ec-e0af681e1155",
   "metadata": {},
   "outputs": [
    {
     "data": {
      "text/plain": [
       "array([1.])"
      ]
     },
     "execution_count": 7,
     "metadata": {},
     "output_type": "execute_result"
    }
   ],
   "source": [
    "np.ones(1)"
   ]
  },
  {
   "cell_type": "code",
   "execution_count": 9,
   "id": "eb152454-6236-4c25-a77b-fcd30621cd99",
   "metadata": {},
   "outputs": [
    {
     "data": {
      "text/plain": [
       "array([[1, 1, 1],\n",
       "       [1, 1, 1],\n",
       "       [1, 1, 1]], dtype=int32)"
      ]
     },
     "execution_count": 9,
     "metadata": {},
     "output_type": "execute_result"
    }
   ],
   "source": [
    "np.ones((3,3),dtype='int32')"
   ]
  },
  {
   "cell_type": "code",
   "execution_count": 11,
   "id": "f22d36b4-1811-463b-af80-cebcf651b8b9",
   "metadata": {},
   "outputs": [],
   "source": [
    "x = np.array([1,2,3,4,5,6,7])"
   ]
  },
  {
   "cell_type": "code",
   "execution_count": 12,
   "id": "9eaab54b-b5fe-4f61-895a-bd7e7a68752e",
   "metadata": {},
   "outputs": [
    {
     "data": {
      "text/plain": [
       "array([1, 2, 3, 4, 5, 6, 7])"
      ]
     },
     "execution_count": 12,
     "metadata": {},
     "output_type": "execute_result"
    }
   ],
   "source": [
    "x[:]"
   ]
  },
  {
   "cell_type": "code",
   "execution_count": 13,
   "id": "6e02003e-d76c-4703-82eb-6446d60849c4",
   "metadata": {},
   "outputs": [
    {
     "data": {
      "text/plain": [
       "array([4, 5])"
      ]
     },
     "execution_count": 13,
     "metadata": {},
     "output_type": "execute_result"
    }
   ],
   "source": [
    "x[3:5]"
   ]
  },
  {
   "cell_type": "code",
   "execution_count": 14,
   "id": "1daf719b-6aaa-4b5f-8be9-52642ecbfd1f",
   "metadata": {},
   "outputs": [
    {
     "data": {
      "text/plain": [
       "array([0, 1, 2, 3, 4, 5, 6, 7, 8])"
      ]
     },
     "execution_count": 14,
     "metadata": {},
     "output_type": "execute_result"
    }
   ],
   "source": [
    "np.arange(9)"
   ]
  },
  {
   "cell_type": "code",
   "execution_count": 15,
   "id": "5c435d04-3e32-4fca-82d6-1ad8fe5e67f9",
   "metadata": {},
   "outputs": [
    {
     "data": {
      "text/plain": [
       "array([10, 20, 30, 40, 50, 60, 70, 80, 90])"
      ]
     },
     "execution_count": 15,
     "metadata": {},
     "output_type": "execute_result"
    }
   ],
   "source": [
    "np.arange(10,100,10)"
   ]
  },
  {
   "cell_type": "code",
   "execution_count": 17,
   "id": "a01052e5-ee2e-4932-9207-17b885ed01e1",
   "metadata": {},
   "outputs": [
    {
     "data": {
      "text/plain": [
       "array([0.        , 0.05263158, 0.10526316, 0.15789474, 0.21052632,\n",
       "       0.26315789, 0.31578947, 0.36842105, 0.42105263, 0.47368421,\n",
       "       0.52631579, 0.57894737, 0.63157895, 0.68421053, 0.73684211,\n",
       "       0.78947368, 0.84210526, 0.89473684, 0.94736842, 1.        ])"
      ]
     },
     "execution_count": 17,
     "metadata": {},
     "output_type": "execute_result"
    }
   ],
   "source": [
    "np.linspace(0,1,20)"
   ]
  },
  {
   "cell_type": "code",
   "execution_count": 19,
   "id": "8ab963f9-f579-42d1-845a-aaa43cd0b27e",
   "metadata": {},
   "outputs": [
    {
     "data": {
      "text/plain": [
       "\u001b[31mInit signature:\u001b[39m np.complex64(self, /, *args, **kwargs)\n",
       "\u001b[31mDocstring:\u001b[39m     \n",
       "Complex number type composed of two single-precision floating-point\n",
       "numbers.\n",
       "\n",
       ":Character code: ``'F'``\n",
       ":Canonical name: `numpy.csingle`\n",
       ":Alias on this platform (win32 AMD64): `numpy.complex64`: Complex number type composed of 2 32-bit-precision floating-point numbers.\n",
       "\u001b[31mFile:\u001b[39m           c:\\users\\dell\\.conda\\envs\\de-zoomcap-2024\\lib\\site-packages\\numpy\\__init__.py\n",
       "\u001b[31mType:\u001b[39m           type\n",
       "\u001b[31mSubclasses:\u001b[39m     "
      ]
     },
     "metadata": {},
     "output_type": "display_data"
    }
   ],
   "source": [
    "np.complex64?"
   ]
  },
  {
   "cell_type": "markdown",
   "id": "8919bf9d-53f3-4391-867a-57382767b2d8",
   "metadata": {},
   "source": [
    "## Matriz"
   ]
  },
  {
   "cell_type": "code",
   "execution_count": 20,
   "id": "532a2421-d8e9-4658-98f6-521fa678de8a",
   "metadata": {},
   "outputs": [
    {
     "data": {
      "text/plain": [
       "array([[0., 0., 0., 0.],\n",
       "       [0., 0., 0., 0.],\n",
       "       [0., 0., 0., 0.]])"
      ]
     },
     "execution_count": 20,
     "metadata": {},
     "output_type": "execute_result"
    }
   ],
   "source": [
    "np.zeros([3,4])"
   ]
  },
  {
   "cell_type": "code",
   "execution_count": 22,
   "id": "da26a4f4-df18-41b4-9589-ebcc01008202",
   "metadata": {},
   "outputs": [
    {
     "data": {
      "text/plain": [
       "array([[0, 1, 2],\n",
       "       [4, 5, 6],\n",
       "       [7, 8, 9]])"
      ]
     },
     "execution_count": 22,
     "metadata": {},
     "output_type": "execute_result"
    }
   ],
   "source": [
    "np.array([\n",
    "    [0,1,2],\n",
    "    [4,5,6],\n",
    "    [7,8,9]])"
   ]
  },
  {
   "cell_type": "code",
   "execution_count": 24,
   "id": "942fdb8d-9e7b-41ca-8c1d-a6074a56f70e",
   "metadata": {},
   "outputs": [
    {
     "data": {
      "text/plain": [
       "array([[ 0,  1,  2,  3],\n",
       "       [ 4,  5,  6,  7],\n",
       "       [ 8,  9, 10, 11],\n",
       "       [12, 13, 14, 15],\n",
       "       [16, 17, 18, 19]])"
      ]
     },
     "execution_count": 24,
     "metadata": {},
     "output_type": "execute_result"
    }
   ],
   "source": [
    "np.arange(0,20).reshape((5,4))"
   ]
  },
  {
   "cell_type": "code",
   "execution_count": 25,
   "id": "14106f00-66ac-4965-8657-b0441eaf1d7a",
   "metadata": {},
   "outputs": [],
   "source": [
    "X = np.arange(0,20).reshape((5,4))"
   ]
  },
  {
   "cell_type": "code",
   "execution_count": 26,
   "id": "af2171d3-10b4-4883-b396-099b597a0cf1",
   "metadata": {},
   "outputs": [
    {
     "data": {
      "text/plain": [
       "2"
      ]
     },
     "execution_count": 26,
     "metadata": {},
     "output_type": "execute_result"
    }
   ],
   "source": [
    "X.ndim"
   ]
  },
  {
   "cell_type": "code",
   "execution_count": 27,
   "id": "665d7965-1e2d-4d55-a8de-35d6b6336a26",
   "metadata": {},
   "outputs": [
    {
     "data": {
      "text/plain": [
       "20"
      ]
     },
     "execution_count": 27,
     "metadata": {},
     "output_type": "execute_result"
    }
   ],
   "source": [
    "X.size"
   ]
  },
  {
   "cell_type": "code",
   "execution_count": 28,
   "id": "e75e54df-cfeb-4ff4-998b-2a40079ad3c8",
   "metadata": {},
   "outputs": [
    {
     "data": {
      "text/plain": [
       "(5, 4)"
      ]
     },
     "execution_count": 28,
     "metadata": {},
     "output_type": "execute_result"
    }
   ],
   "source": [
    "X.shape"
   ]
  },
  {
   "cell_type": "code",
   "execution_count": 31,
   "id": "97754a9e-8448-4f94-b7d1-4f2185d0b126",
   "metadata": {},
   "outputs": [
    {
     "data": {
      "text/plain": [
       "array([[0.03153359, 0.86490947, 0.69937414],\n",
       "       [0.55818404, 0.49511699, 0.28688252],\n",
       "       [0.29066406, 0.98906488, 0.83569385]])"
      ]
     },
     "execution_count": 31,
     "metadata": {},
     "output_type": "execute_result"
    }
   ],
   "source": [
    "np.random.rand(3,3)"
   ]
  },
  {
   "cell_type": "code",
   "execution_count": 32,
   "id": "5230068c-8258-415d-b7d0-c04f12b7c68f",
   "metadata": {},
   "outputs": [
    {
     "data": {
      "text/plain": [
       "array([[ 0,  1,  2,  3],\n",
       "       [ 4,  5,  6,  7],\n",
       "       [ 8,  9, 10, 11],\n",
       "       [12, 13, 14, 15],\n",
       "       [16, 17, 18, 19]])"
      ]
     },
     "execution_count": 32,
     "metadata": {},
     "output_type": "execute_result"
    }
   ],
   "source": [
    "X[:,:]"
   ]
  },
  {
   "cell_type": "code",
   "execution_count": 33,
   "id": "2fcfeb6d-747c-4234-9738-fcfdc9c63d50",
   "metadata": {},
   "outputs": [
    {
     "data": {
      "text/plain": [
       "array([ 8,  9, 10, 11])"
      ]
     },
     "execution_count": 33,
     "metadata": {},
     "output_type": "execute_result"
    }
   ],
   "source": [
    "X[2]"
   ]
  },
  {
   "cell_type": "code",
   "execution_count": 34,
   "id": "367e7ef1-2f87-4cd9-828b-ca6ac4d9ed4a",
   "metadata": {},
   "outputs": [
    {
     "data": {
      "text/plain": [
       "array([ 2,  6, 10, 14, 18])"
      ]
     },
     "execution_count": 34,
     "metadata": {},
     "output_type": "execute_result"
    }
   ],
   "source": [
    "X[:,2]"
   ]
  },
  {
   "cell_type": "code",
   "execution_count": 35,
   "id": "f5247be5-d154-49d9-8fb3-8cdf5585769d",
   "metadata": {},
   "outputs": [
    {
     "data": {
      "text/plain": [
       "array([0, 1, 2, 3])"
      ]
     },
     "execution_count": 35,
     "metadata": {},
     "output_type": "execute_result"
    }
   ],
   "source": [
    "X[0,:]"
   ]
  },
  {
   "cell_type": "markdown",
   "id": "44c8434e-4b7b-492c-a4b0-6bb02dea51e0",
   "metadata": {},
   "source": [
    "Vector Operations"
   ]
  },
  {
   "cell_type": "code",
   "execution_count": 49,
   "id": "61858a61-5e6f-4ed8-815a-5ca7373f790b",
   "metadata": {},
   "outputs": [],
   "source": [
    "#Mult\n",
    "np.random.seed(1)\n",
    "x = np.random.randint(1,10,5)\n",
    "y = np.random.randint(30,40,5)"
   ]
  },
  {
   "cell_type": "code",
   "execution_count": 50,
   "id": "e2fddddc-cfcd-48db-a86b-2c7dfae6b2fe",
   "metadata": {},
   "outputs": [
    {
     "data": {
      "text/plain": [
       "(array([6, 9, 6, 1, 1], dtype=int32), array([31, 37, 36, 39, 32], dtype=int32))"
      ]
     },
     "execution_count": 50,
     "metadata": {},
     "output_type": "execute_result"
    }
   ],
   "source": [
    "x,y"
   ]
  },
  {
   "cell_type": "code",
   "execution_count": 51,
   "id": "54f3884d-20df-4da7-9b4d-d8eb5801a8e0",
   "metadata": {},
   "outputs": [
    {
     "data": {
      "text/plain": [
       "array([12, 18, 12,  2,  2], dtype=int32)"
      ]
     },
     "execution_count": 51,
     "metadata": {},
     "output_type": "execute_result"
    }
   ],
   "source": [
    "2 * x"
   ]
  },
  {
   "cell_type": "code",
   "execution_count": 52,
   "id": "3ad2661a-9e93-4b23-813b-f6a85151b6e9",
   "metadata": {},
   "outputs": [
    {
     "data": {
      "text/plain": [
       "array([37, 46, 42, 40, 33], dtype=int32)"
      ]
     },
     "execution_count": 52,
     "metadata": {},
     "output_type": "execute_result"
    }
   ],
   "source": [
    "x + y"
   ]
  },
  {
   "cell_type": "code",
   "execution_count": 53,
   "id": "7c341b4a-955b-48fc-a789-1c2ea0111157",
   "metadata": {},
   "outputs": [
    {
     "data": {
      "text/plain": [
       "array([186, 333, 216,  39,  32], dtype=int32)"
      ]
     },
     "execution_count": 53,
     "metadata": {},
     "output_type": "execute_result"
    }
   ],
   "source": [
    "x * y"
   ]
  },
  {
   "cell_type": "code",
   "execution_count": 55,
   "id": "9b038353-8658-400b-9bde-497e7845e3e8",
   "metadata": {},
   "outputs": [],
   "source": [
    "z = y.reshape(1,5)"
   ]
  },
  {
   "cell_type": "code",
   "execution_count": 60,
   "id": "1572a5a6-3310-4247-8695-e05adffbc34a",
   "metadata": {},
   "outputs": [
    {
     "data": {
      "text/plain": [
       "np.int32(806)"
      ]
     },
     "execution_count": 60,
     "metadata": {},
     "output_type": "execute_result"
    }
   ],
   "source": [
    "#Dot product\n",
    "x.dot(y)"
   ]
  },
  {
   "cell_type": "code",
   "execution_count": 65,
   "id": "dc6ef274-f8d8-4f05-8205-5eba15ad863f",
   "metadata": {},
   "outputs": [],
   "source": [
    "A = np.random.rand(3,5)"
   ]
  },
  {
   "cell_type": "code",
   "execution_count": 66,
   "id": "43cbddaf-5688-4cff-92f2-c827442ce093",
   "metadata": {},
   "outputs": [
    {
     "data": {
      "text/plain": [
       "array([[0.93912779, 0.77838924, 0.71597052, 0.8027575 , 0.09280081],\n",
       "       [0.51815255, 0.86502025, 0.82914691, 0.82960336, 0.27304997],\n",
       "       [0.0592432 , 0.67052804, 0.59306552, 0.6716541 , 0.41178788]])"
      ]
     },
     "execution_count": 66,
     "metadata": {},
     "output_type": "execute_result"
    }
   ],
   "source": [
    "A"
   ]
  },
  {
   "cell_type": "code",
   "execution_count": 69,
   "id": "1b736126-7151-41b3-92b9-ad3f39fb00c9",
   "metadata": {},
   "outputs": [
    {
     "data": {
      "text/plain": [
       "array([17.83165127, 16.97163234, 11.03204665])"
      ]
     },
     "execution_count": 69,
     "metadata": {},
     "output_type": "execute_result"
    }
   ],
   "source": [
    "A.dot(x)"
   ]
  },
  {
   "cell_type": "code",
   "execution_count": 75,
   "id": "59e5a5d5-8849-41c7-a7f1-2e891c20d13d",
   "metadata": {},
   "outputs": [],
   "source": [
    "B = np.array([[6],[8],[1]])"
   ]
  },
  {
   "cell_type": "code",
   "execution_count": 76,
   "id": "73b004c4-148b-43d5-812a-ef19b33fb8f2",
   "metadata": {},
   "outputs": [
    {
     "data": {
      "text/plain": [
       "array([[6],\n",
       "       [8],\n",
       "       [1]])"
      ]
     },
     "execution_count": 76,
     "metadata": {},
     "output_type": "execute_result"
    }
   ],
   "source": [
    "B"
   ]
  },
  {
   "cell_type": "code",
   "execution_count": 78,
   "id": "0160e47c-29c8-44a2-a287-758e60b004f8",
   "metadata": {},
   "outputs": [
    {
     "data": {
      "text/plain": [
       "array([[1., 0., 0., 0.],\n",
       "       [0., 1., 0., 0.],\n",
       "       [0., 0., 1., 0.],\n",
       "       [0., 0., 0., 1.]])"
      ]
     },
     "execution_count": 78,
     "metadata": {},
     "output_type": "execute_result"
    }
   ],
   "source": [
    "np.eye(4)"
   ]
  }
 ],
 "metadata": {
  "kernelspec": {
   "display_name": "Python 3 (ipykernel)",
   "language": "python",
   "name": "python3"
  },
  "language_info": {
   "codemirror_mode": {
    "name": "ipython",
    "version": 3
   },
   "file_extension": ".py",
   "mimetype": "text/x-python",
   "name": "python",
   "nbconvert_exporter": "python",
   "pygments_lexer": "ipython3",
   "version": "3.12.9"
  }
 },
 "nbformat": 4,
 "nbformat_minor": 5
}
