{
 "cells": [
  {
   "cell_type": "code",
   "execution_count": 1,
   "id": "78e3c0b5-311e-4c3a-aed9-4a1968e9891e",
   "metadata": {},
   "outputs": [],
   "source": [
    "import pandas as pd\n",
    "import numpy as np\n",
    "import matplotlib.pyplot as plt\n",
    "import seaborn as sns"
   ]
  },
  {
   "cell_type": "code",
   "execution_count": 2,
   "id": "8fd01aff-abff-4a4b-8e68-56dc5eb034df",
   "metadata": {},
   "outputs": [
    {
     "data": {
      "text/plain": [
       "('2.3.2', '2.3.3')"
      ]
     },
     "execution_count": 2,
     "metadata": {},
     "output_type": "execute_result"
    }
   ],
   "source": [
    "pd.__version__,np.__version__"
   ]
  },
  {
   "cell_type": "markdown",
   "id": "57004a95-a8e3-4989-a577-8f5c6deb803c",
   "metadata": {},
   "source": [
    "# Cargando data"
   ]
  },
  {
   "cell_type": "code",
   "execution_count": 85,
   "id": "3b4ca383-6187-433e-a045-868de3d283ca",
   "metadata": {},
   "outputs": [],
   "source": [
    "data = pd.read_csv('../data/car_fuel_efficiency_hw.csv')"
   ]
  },
  {
   "cell_type": "code",
   "execution_count": 86,
   "id": "4857c8f8-98d5-4504-82b1-5587b986c1a5",
   "metadata": {},
   "outputs": [
    {
     "data": {
      "text/html": [
       "<div>\n",
       "<style scoped>\n",
       "    .dataframe tbody tr th:only-of-type {\n",
       "        vertical-align: middle;\n",
       "    }\n",
       "\n",
       "    .dataframe tbody tr th {\n",
       "        vertical-align: top;\n",
       "    }\n",
       "\n",
       "    .dataframe thead th {\n",
       "        text-align: right;\n",
       "    }\n",
       "</style>\n",
       "<table border=\"1\" class=\"dataframe\">\n",
       "  <thead>\n",
       "    <tr style=\"text-align: right;\">\n",
       "      <th></th>\n",
       "      <th>engine_displacement</th>\n",
       "      <th>num_cylinders</th>\n",
       "      <th>horsepower</th>\n",
       "      <th>vehicle_weight</th>\n",
       "      <th>acceleration</th>\n",
       "      <th>model_year</th>\n",
       "      <th>origin</th>\n",
       "      <th>fuel_type</th>\n",
       "      <th>drivetrain</th>\n",
       "      <th>num_doors</th>\n",
       "      <th>fuel_efficiency_mpg</th>\n",
       "    </tr>\n",
       "  </thead>\n",
       "  <tbody>\n",
       "    <tr>\n",
       "      <th>0</th>\n",
       "      <td>170</td>\n",
       "      <td>3.0</td>\n",
       "      <td>159.0</td>\n",
       "      <td>3413.433759</td>\n",
       "      <td>17.7</td>\n",
       "      <td>2003</td>\n",
       "      <td>Europe</td>\n",
       "      <td>Gasoline</td>\n",
       "      <td>All-wheel drive</td>\n",
       "      <td>0.0</td>\n",
       "      <td>13.231729</td>\n",
       "    </tr>\n",
       "    <tr>\n",
       "      <th>1</th>\n",
       "      <td>130</td>\n",
       "      <td>5.0</td>\n",
       "      <td>97.0</td>\n",
       "      <td>3149.664934</td>\n",
       "      <td>17.8</td>\n",
       "      <td>2007</td>\n",
       "      <td>USA</td>\n",
       "      <td>Gasoline</td>\n",
       "      <td>Front-wheel drive</td>\n",
       "      <td>0.0</td>\n",
       "      <td>13.688217</td>\n",
       "    </tr>\n",
       "    <tr>\n",
       "      <th>2</th>\n",
       "      <td>170</td>\n",
       "      <td>NaN</td>\n",
       "      <td>78.0</td>\n",
       "      <td>3079.038997</td>\n",
       "      <td>15.1</td>\n",
       "      <td>2018</td>\n",
       "      <td>Europe</td>\n",
       "      <td>Gasoline</td>\n",
       "      <td>Front-wheel drive</td>\n",
       "      <td>0.0</td>\n",
       "      <td>14.246341</td>\n",
       "    </tr>\n",
       "    <tr>\n",
       "      <th>3</th>\n",
       "      <td>220</td>\n",
       "      <td>4.0</td>\n",
       "      <td>NaN</td>\n",
       "      <td>2542.392402</td>\n",
       "      <td>20.2</td>\n",
       "      <td>2009</td>\n",
       "      <td>USA</td>\n",
       "      <td>Diesel</td>\n",
       "      <td>All-wheel drive</td>\n",
       "      <td>2.0</td>\n",
       "      <td>16.912736</td>\n",
       "    </tr>\n",
       "    <tr>\n",
       "      <th>4</th>\n",
       "      <td>210</td>\n",
       "      <td>1.0</td>\n",
       "      <td>140.0</td>\n",
       "      <td>3460.870990</td>\n",
       "      <td>14.4</td>\n",
       "      <td>2009</td>\n",
       "      <td>Europe</td>\n",
       "      <td>Gasoline</td>\n",
       "      <td>All-wheel drive</td>\n",
       "      <td>2.0</td>\n",
       "      <td>12.488369</td>\n",
       "    </tr>\n",
       "  </tbody>\n",
       "</table>\n",
       "</div>"
      ],
      "text/plain": [
       "   engine_displacement  num_cylinders  horsepower  vehicle_weight  \\\n",
       "0                  170            3.0       159.0     3413.433759   \n",
       "1                  130            5.0        97.0     3149.664934   \n",
       "2                  170            NaN        78.0     3079.038997   \n",
       "3                  220            4.0         NaN     2542.392402   \n",
       "4                  210            1.0       140.0     3460.870990   \n",
       "\n",
       "   acceleration  model_year  origin fuel_type         drivetrain  num_doors  \\\n",
       "0          17.7        2003  Europe  Gasoline    All-wheel drive        0.0   \n",
       "1          17.8        2007     USA  Gasoline  Front-wheel drive        0.0   \n",
       "2          15.1        2018  Europe  Gasoline  Front-wheel drive        0.0   \n",
       "3          20.2        2009     USA    Diesel    All-wheel drive        2.0   \n",
       "4          14.4        2009  Europe  Gasoline    All-wheel drive        2.0   \n",
       "\n",
       "   fuel_efficiency_mpg  \n",
       "0            13.231729  \n",
       "1            13.688217  \n",
       "2            14.246341  \n",
       "3            16.912736  \n",
       "4            12.488369  "
      ]
     },
     "execution_count": 86,
     "metadata": {},
     "output_type": "execute_result"
    }
   ],
   "source": [
    "data.head(5)"
   ]
  },
  {
   "cell_type": "markdown",
   "id": "ecf1595f-75d0-433d-9a8b-8b443e921a44",
   "metadata": {},
   "source": [
    "## Preparing dataset\n",
    "Seleccionando columnas"
   ]
  },
  {
   "cell_type": "code",
   "execution_count": 5,
   "id": "d757eec9-2754-47db-9861-e10d16326a02",
   "metadata": {},
   "outputs": [],
   "source": [
    "select_columns = ['engine_displacement','horsepower','vehicle_weight','model_year','fuel_efficiency_mpg']"
   ]
  },
  {
   "cell_type": "code",
   "execution_count": 87,
   "id": "3dad8ef6-8320-466b-8f6a-fe00b1ad40ff",
   "metadata": {},
   "outputs": [],
   "source": [
    "df_data = data[select_columns]"
   ]
  },
  {
   "cell_type": "code",
   "execution_count": 88,
   "id": "76d26d37-b5f3-4c82-a58f-2ba37a70a543",
   "metadata": {},
   "outputs": [
    {
     "data": {
      "text/html": [
       "<div>\n",
       "<style scoped>\n",
       "    .dataframe tbody tr th:only-of-type {\n",
       "        vertical-align: middle;\n",
       "    }\n",
       "\n",
       "    .dataframe tbody tr th {\n",
       "        vertical-align: top;\n",
       "    }\n",
       "\n",
       "    .dataframe thead th {\n",
       "        text-align: right;\n",
       "    }\n",
       "</style>\n",
       "<table border=\"1\" class=\"dataframe\">\n",
       "  <thead>\n",
       "    <tr style=\"text-align: right;\">\n",
       "      <th></th>\n",
       "      <th>engine_displacement</th>\n",
       "      <th>horsepower</th>\n",
       "      <th>vehicle_weight</th>\n",
       "      <th>model_year</th>\n",
       "      <th>fuel_efficiency_mpg</th>\n",
       "    </tr>\n",
       "  </thead>\n",
       "  <tbody>\n",
       "    <tr>\n",
       "      <th>0</th>\n",
       "      <td>170</td>\n",
       "      <td>159.0</td>\n",
       "      <td>3413.433759</td>\n",
       "      <td>2003</td>\n",
       "      <td>13.231729</td>\n",
       "    </tr>\n",
       "    <tr>\n",
       "      <th>1</th>\n",
       "      <td>130</td>\n",
       "      <td>97.0</td>\n",
       "      <td>3149.664934</td>\n",
       "      <td>2007</td>\n",
       "      <td>13.688217</td>\n",
       "    </tr>\n",
       "    <tr>\n",
       "      <th>2</th>\n",
       "      <td>170</td>\n",
       "      <td>78.0</td>\n",
       "      <td>3079.038997</td>\n",
       "      <td>2018</td>\n",
       "      <td>14.246341</td>\n",
       "    </tr>\n",
       "    <tr>\n",
       "      <th>3</th>\n",
       "      <td>220</td>\n",
       "      <td>NaN</td>\n",
       "      <td>2542.392402</td>\n",
       "      <td>2009</td>\n",
       "      <td>16.912736</td>\n",
       "    </tr>\n",
       "    <tr>\n",
       "      <th>4</th>\n",
       "      <td>210</td>\n",
       "      <td>140.0</td>\n",
       "      <td>3460.870990</td>\n",
       "      <td>2009</td>\n",
       "      <td>12.488369</td>\n",
       "    </tr>\n",
       "  </tbody>\n",
       "</table>\n",
       "</div>"
      ],
      "text/plain": [
       "   engine_displacement  horsepower  vehicle_weight  model_year  \\\n",
       "0                  170       159.0     3413.433759        2003   \n",
       "1                  130        97.0     3149.664934        2007   \n",
       "2                  170        78.0     3079.038997        2018   \n",
       "3                  220         NaN     2542.392402        2009   \n",
       "4                  210       140.0     3460.870990        2009   \n",
       "\n",
       "   fuel_efficiency_mpg  \n",
       "0            13.231729  \n",
       "1            13.688217  \n",
       "2            14.246341  \n",
       "3            16.912736  \n",
       "4            12.488369  "
      ]
     },
     "execution_count": 88,
     "metadata": {},
     "output_type": "execute_result"
    }
   ],
   "source": [
    "df_data.head(5)"
   ]
  },
  {
   "cell_type": "code",
   "execution_count": 8,
   "id": "b3c74e3f-7363-4349-92af-f78333b9bd4f",
   "metadata": {},
   "outputs": [
    {
     "name": "stdout",
     "output_type": "stream",
     "text": [
      "<class 'pandas.core.frame.DataFrame'>\n",
      "RangeIndex: 9704 entries, 0 to 9703\n",
      "Data columns (total 11 columns):\n",
      " #   Column               Non-Null Count  Dtype  \n",
      "---  ------               --------------  -----  \n",
      " 0   engine_displacement  9704 non-null   int64  \n",
      " 1   num_cylinders        9222 non-null   float64\n",
      " 2   horsepower           8996 non-null   float64\n",
      " 3   vehicle_weight       9704 non-null   float64\n",
      " 4   acceleration         8774 non-null   float64\n",
      " 5   model_year           9704 non-null   int64  \n",
      " 6   origin               9704 non-null   object \n",
      " 7   fuel_type            9704 non-null   object \n",
      " 8   drivetrain           9704 non-null   object \n",
      " 9   num_doors            9202 non-null   float64\n",
      " 10  fuel_efficiency_mpg  9704 non-null   float64\n",
      "dtypes: float64(6), int64(2), object(3)\n",
      "memory usage: 834.1+ KB\n"
     ]
    }
   ],
   "source": [
    "data.info()"
   ]
  },
  {
   "cell_type": "code",
   "execution_count": 9,
   "id": "d181fd72-5161-4156-aac6-1d0f4843007a",
   "metadata": {},
   "outputs": [],
   "source": [
    "%matplotlib inline"
   ]
  },
  {
   "cell_type": "code",
   "execution_count": 10,
   "id": "d0a3bd65-c1e6-47f2-b356-5d92a2a2eacf",
   "metadata": {},
   "outputs": [
    {
     "data": {
      "text/plain": [
       "<Axes: xlabel='fuel_efficiency_mpg', ylabel='Count'>"
      ]
     },
     "execution_count": 10,
     "metadata": {},
     "output_type": "execute_result"
    },
    {
     "data": {
      "image/png": "[encoded data removed]",
      "text/plain": [
       "<Figure size 640x480 with 1 Axes>"
      ]
     },
     "metadata": {},
     "output_type": "display_data"
    }
   ],
   "source": [
    "sns.histplot(data.fuel_efficiency_mpg, bins=50)"
   ]
  },
  {
   "cell_type": "code",
   "execution_count": 11,
   "id": "47ac19a7-99cb-484b-9898-9bdeba39b36c",
   "metadata": {},
   "outputs": [
    {
     "data": {
      "text/plain": [
       "engine_displacement      0\n",
       "horsepower             708\n",
       "vehicle_weight           0\n",
       "model_year               0\n",
       "fuel_efficiency_mpg      0\n",
       "dtype: int64"
      ]
     },
     "execution_count": 11,
     "metadata": {},
     "output_type": "execute_result"
    }
   ],
   "source": [
    "# Q1\n",
    "df_data.isnull().sum()"
   ]
  },
  {
   "cell_type": "code",
   "execution_count": 12,
   "id": "1f03e8ea-2b9c-40ba-b855-6405cc350075",
   "metadata": {},
   "outputs": [
    {
     "data": {
      "text/plain": [
       "np.int64(708)"
      ]
     },
     "execution_count": 12,
     "metadata": {},
     "output_type": "execute_result"
    }
   ],
   "source": [
    "# Q1\n",
    "df_data['horsepower'].isnull().sum()"
   ]
  },
  {
   "cell_type": "code",
   "execution_count": 13,
   "id": "d365553b-58ab-456a-a6ef-2c4527fc6873",
   "metadata": {},
   "outputs": [
    {
     "data": {
      "text/plain": [
       "np.float64(149.65729212983547)"
      ]
     },
     "execution_count": 13,
     "metadata": {},
     "output_type": "execute_result"
    }
   ],
   "source": [
    "# Q2\n",
    "df_data.horsepower.mean()"
   ]
  },
  {
   "cell_type": "code",
   "execution_count": 14,
   "id": "b5828eb5-154b-4913-8ed0-f8e7f66370fa",
   "metadata": {},
   "outputs": [],
   "source": [
    "# Split the dataset\n",
    "def data_split(df,seed):\n",
    "    \n",
    "    np.random.seed(seed)\n",
    "\n",
    "    n = len(df)\n",
    "\n",
    "    n_val = int(0.2 * n)\n",
    "    n_test = int(0.2 * n)\n",
    "    n_train = n - n_val - n_test\n",
    "    \n",
    "    idx = np.arange(n)\n",
    "    np.random.shuffle(idx)\n",
    "\n",
    "    df_shuffled = df.iloc[idx]\n",
    "\n",
    "    df_train = df_shuffled.iloc[:n_train].copy()\n",
    "    df_val = df_shuffled.iloc[n_train:n_train+n_val].copy()\n",
    "    df_test = df_shuffled.iloc[n_train+n_val:].copy()\n",
    "\n",
    "    return df_train,df_val, df_test"
   ]
  },
  {
   "cell_type": "code",
   "execution_count": 15,
   "id": "ec680e7d-f497-4e3f-b191-25ab523e86cc",
   "metadata": {},
   "outputs": [],
   "source": [
    "# Data\n",
    "df_train,df_val,df_test = data_split(df_data,42)"
   ]
  },
  {
   "cell_type": "code",
   "execution_count": 16,
   "id": "be211049-6bfd-4f25-acb8-95bf442bd7e5",
   "metadata": {},
   "outputs": [
    {
     "data": {
      "text/plain": [
       "(5824, 5)"
      ]
     },
     "execution_count": 16,
     "metadata": {},
     "output_type": "execute_result"
    }
   ],
   "source": [
    "# Data set\n",
    "df_train.shape"
   ]
  },
  {
   "cell_type": "code",
   "execution_count": 17,
   "id": "4eb9fee0-19e7-4c66-8590-9ba9e58a61a4",
   "metadata": {},
   "outputs": [],
   "source": [
    "# y_train\n",
    "y_train = df_train.fuel_efficiency_mpg.values\n",
    "y_val = df_val.fuel_efficiency_mpg.values\n",
    "y_test = df_test.fuel_efficiency_mpg.values\n",
    "\n",
    "\n",
    "del df_train['fuel_efficiency_mpg']\n",
    "del df_val['fuel_efficiency_mpg']\n",
    "del df_test['fuel_efficiency_mpg']"
   ]
  },
  {
   "cell_type": "code",
   "execution_count": 18,
   "id": "4fb770d7-d231-4100-a244-151de6d1d6b5",
   "metadata": {},
   "outputs": [
    {
     "data": {
      "text/plain": [
       "((5824, 4), (5824,))"
      ]
     },
     "execution_count": 18,
     "metadata": {},
     "output_type": "execute_result"
    }
   ],
   "source": [
    "df_train.shape,y_train.shape"
   ]
  },
  {
   "cell_type": "code",
   "execution_count": 19,
   "id": "aae16f36-40f6-44e0-93da-7382e3abebe8",
   "metadata": {},
   "outputs": [],
   "source": [
    "# Q3\n",
    "#fill it with 0\n",
    "def prepare_X0(df):\n",
    "    df_num = df.copy()\n",
    "    df_num = df_num.fillna(0)\n",
    "    X = df_num\n",
    "    return X"
   ]
  },
  {
   "cell_type": "code",
   "execution_count": 20,
   "id": "12e7c7e2-98cd-4c86-b077-be62fe9f8f41",
   "metadata": {},
   "outputs": [],
   "source": [
    "# Q3\n",
    "#fill it with mean\n",
    "def prepare_XMean(df,data_train):\n",
    "    fill_mean = df.copy()\n",
    "    for column in df.columns:\n",
    "        fill_mean[column] = fill_mean[column].fillna(data_train[column].mean())\n",
    "    X = fill_mean\n",
    "    return X"
   ]
  },
  {
   "cell_type": "code",
   "execution_count": 21,
   "id": "ca1d51dc-53b8-4d2d-aefa-ba04549dbb39",
   "metadata": {},
   "outputs": [],
   "source": [
    "def rmse(y, y_pred):\n",
    "    error = y_pred - y\n",
    "    mse = (error ** 2).mean()\n",
    "    return np.sqrt(mse)"
   ]
  },
  {
   "cell_type": "code",
   "execution_count": 22,
   "id": "6c94dd96-324d-4e3f-a659-39b3bc627bb5",
   "metadata": {},
   "outputs": [],
   "source": [
    "def train_linear_regression(X, y):\n",
    "    ones = np.ones(X.shape[0])\n",
    "    X = np.column_stack([ones, X])\n",
    "\n",
    "    XTX = X.T.dot(X)\n",
    "    XTX_inv = np.linalg.inv(XTX)\n",
    "    w = XTX_inv.dot(X.T).dot(y)\n",
    "    \n",
    "    return w[0], w[1:]"
   ]
  },
  {
   "cell_type": "markdown",
   "id": "9a0b78e9-dcb6-4928-8291-e9942097b0ca",
   "metadata": {
    "jp-MarkdownHeadingCollapsed": true
   },
   "source": [
    "# Zero"
   ]
  },
  {
   "cell_type": "code",
   "execution_count": 53,
   "id": "ab1e5c2a-2efe-4416-97e0-7b7b82d19abb",
   "metadata": {},
   "outputs": [],
   "source": [
    "# Q3\n",
    "#fill it with 0\n",
    "fill_train0 = prepare_X0(df_train)\n",
    "fill_train0 = df_train.copy()\n",
    "fill_val0 = prepare_X0(df_val)\n",
    "fill_test0 = prepare_X0(df_test)"
   ]
  },
  {
   "cell_type": "code",
   "execution_count": 47,
   "id": "7722665f-162d-47cc-befd-a04dfaafcef1",
   "metadata": {},
   "outputs": [
    {
     "data": {
      "text/html": [
       "<div>\n",
       "<style scoped>\n",
       "    .dataframe tbody tr th:only-of-type {\n",
       "        vertical-align: middle;\n",
       "    }\n",
       "\n",
       "    .dataframe tbody tr th {\n",
       "        vertical-align: top;\n",
       "    }\n",
       "\n",
       "    .dataframe thead th {\n",
       "        text-align: right;\n",
       "    }\n",
       "</style>\n",
       "<table border=\"1\" class=\"dataframe\">\n",
       "  <thead>\n",
       "    <tr style=\"text-align: right;\">\n",
       "      <th></th>\n",
       "      <th>engine_displacement</th>\n",
       "      <th>horsepower</th>\n",
       "      <th>vehicle_weight</th>\n",
       "      <th>model_year</th>\n",
       "    </tr>\n",
       "  </thead>\n",
       "  <tbody>\n",
       "    <tr>\n",
       "      <th>count</th>\n",
       "      <td>5824.000000</td>\n",
       "      <td>5824.000000</td>\n",
       "      <td>5824.000000</td>\n",
       "      <td>5824.000000</td>\n",
       "    </tr>\n",
       "    <tr>\n",
       "      <th>mean</th>\n",
       "      <td>199.429945</td>\n",
       "      <td>138.529190</td>\n",
       "      <td>3006.672919</td>\n",
       "      <td>2011.444712</td>\n",
       "    </tr>\n",
       "    <tr>\n",
       "      <th>std</th>\n",
       "      <td>49.543177</td>\n",
       "      <td>48.357282</td>\n",
       "      <td>497.856998</td>\n",
       "      <td>6.669193</td>\n",
       "    </tr>\n",
       "    <tr>\n",
       "      <th>min</th>\n",
       "      <td>10.000000</td>\n",
       "      <td>0.000000</td>\n",
       "      <td>952.681761</td>\n",
       "      <td>2000.000000</td>\n",
       "    </tr>\n",
       "    <tr>\n",
       "      <th>25%</th>\n",
       "      <td>170.000000</td>\n",
       "      <td>123.000000</td>\n",
       "      <td>2669.313374</td>\n",
       "      <td>2006.000000</td>\n",
       "    </tr>\n",
       "    <tr>\n",
       "      <th>50%</th>\n",
       "      <td>200.000000</td>\n",
       "      <td>146.000000</td>\n",
       "      <td>2993.348283</td>\n",
       "      <td>2011.000000</td>\n",
       "    </tr>\n",
       "    <tr>\n",
       "      <th>75%</th>\n",
       "      <td>230.000000</td>\n",
       "      <td>168.000000</td>\n",
       "      <td>3342.151520</td>\n",
       "      <td>2017.000000</td>\n",
       "    </tr>\n",
       "    <tr>\n",
       "      <th>max</th>\n",
       "      <td>380.000000</td>\n",
       "      <td>246.000000</td>\n",
       "      <td>4610.973229</td>\n",
       "      <td>2023.000000</td>\n",
       "    </tr>\n",
       "  </tbody>\n",
       "</table>\n",
       "</div>"
      ],
      "text/plain": [
       "       engine_displacement   horsepower  vehicle_weight   model_year\n",
       "count          5824.000000  5824.000000     5824.000000  5824.000000\n",
       "mean            199.429945   138.529190     3006.672919  2011.444712\n",
       "std              49.543177    48.357282      497.856998     6.669193\n",
       "min              10.000000     0.000000      952.681761  2000.000000\n",
       "25%             170.000000   123.000000     2669.313374  2006.000000\n",
       "50%             200.000000   146.000000     2993.348283  2011.000000\n",
       "75%             230.000000   168.000000     3342.151520  2017.000000\n",
       "max             380.000000   246.000000     4610.973229  2023.000000"
      ]
     },
     "execution_count": 47,
     "metadata": {},
     "output_type": "execute_result"
    }
   ],
   "source": [
    "fill_train0.describe()"
   ]
  },
  {
   "cell_type": "code",
   "execution_count": 48,
   "id": "a53808c6-1529-4bcb-a9f3-8a7f7ff9f3c1",
   "metadata": {},
   "outputs": [],
   "source": [
    "fill_train_0_w0, fill_train_0_w = train_linear_regression(fill_train0, y_train)"
   ]
  },
  {
   "cell_type": "code",
   "execution_count": 49,
   "id": "c566e6f7-26b5-4540-8b35-a68b90428e99",
   "metadata": {},
   "outputs": [
    {
     "data": {
      "text/plain": [
       "(np.float64(28.827365474074796),\n",
       " array([ 9.93613218e-05,  3.54221891e-03, -5.01328015e-03,  3.42992869e-04]))"
      ]
     },
     "execution_count": 49,
     "metadata": {},
     "output_type": "execute_result"
    }
   ],
   "source": [
    "fill_train_0_w0, fill_train_0_w"
   ]
  },
  {
   "cell_type": "code",
   "execution_count": 50,
   "id": "7dcf1982-9b07-4a16-bb2a-252add768513",
   "metadata": {},
   "outputs": [
    {
     "name": "stdout",
     "output_type": "stream",
     "text": [
      "Train: 0.5202614265099076\n"
     ]
    }
   ],
   "source": [
    "# Y Train mean\n",
    "y_train_0_pred = fill_train_0_w0 + fill_train0.values.dot(fill_train_0_w)\n",
    "print('Train:', rmse(y_train, y_train_0_pred))"
   ]
  },
  {
   "cell_type": "code",
   "execution_count": 51,
   "id": "add0a205-157d-44c8-a50c-067c491d4f01",
   "metadata": {},
   "outputs": [
    {
     "name": "stdout",
     "output_type": "stream",
     "text": [
      "Train: 0.52\n"
     ]
    }
   ],
   "source": [
    "print('Train:', round( rmse(y_train, y_train_0_pred), 2))"
   ]
  },
  {
   "cell_type": "code",
   "execution_count": 52,
   "id": "0a0b73d4-3b27-47a6-8f86-8ca46ac10801",
   "metadata": {},
   "outputs": [
    {
     "data": {
      "text/plain": [
       "<Axes: ylabel='Count'>"
      ]
     },
     "execution_count": 52,
     "metadata": {},
     "output_type": "execute_result"
    },
    {
     "data": {
      "image/png": "[encoded data removed]",
      "text/plain": [
       "<Figure size 640x480 with 1 Axes>"
      ]
     },
     "metadata": {},
     "output_type": "display_data"
    }
   ],
   "source": [
    "sns.histplot(y_train, bins=50)\n",
    "sns.histplot(y_train_0_pred, bins=50)"
   ]
  },
  {
   "cell_type": "markdown",
   "id": "916f0cbf-4b94-4b39-bc93-ed6a6652e62c",
   "metadata": {
    "jp-MarkdownHeadingCollapsed": true
   },
   "source": [
    "# Mean"
   ]
  },
  {
   "cell_type": "code",
   "execution_count": 33,
   "id": "9a462fd7-5853-4226-aabc-075fe433998b",
   "metadata": {},
   "outputs": [],
   "source": [
    "# Q3\n",
    "#fill it with mean\n",
    "#df_train['horsepower'].mean()\n",
    "fill_trainmean = prepare_XMean(df_train,df_train)\n",
    "fill_valmean = prepare_XMean(df_val,df_train)\n",
    "fill_testmean = prepare_XMean(df_test,df_train)\n"
   ]
  },
  {
   "cell_type": "code",
   "execution_count": 34,
   "id": "ef2ef074-a1fe-4e1f-b05d-a0f7a8072c52",
   "metadata": {},
   "outputs": [
    {
     "data": {
      "text/html": [
       "<div>\n",
       "<style scoped>\n",
       "    .dataframe tbody tr th:only-of-type {\n",
       "        vertical-align: middle;\n",
       "    }\n",
       "\n",
       "    .dataframe tbody tr th {\n",
       "        vertical-align: top;\n",
       "    }\n",
       "\n",
       "    .dataframe thead th {\n",
       "        text-align: right;\n",
       "    }\n",
       "</style>\n",
       "<table border=\"1\" class=\"dataframe\">\n",
       "  <thead>\n",
       "    <tr style=\"text-align: right;\">\n",
       "      <th></th>\n",
       "      <th>engine_displacement</th>\n",
       "      <th>horsepower</th>\n",
       "      <th>vehicle_weight</th>\n",
       "      <th>model_year</th>\n",
       "    </tr>\n",
       "  </thead>\n",
       "  <tbody>\n",
       "    <tr>\n",
       "      <th>count</th>\n",
       "      <td>5824.000000</td>\n",
       "      <td>5824.000000</td>\n",
       "      <td>5824.000000</td>\n",
       "      <td>5824.000000</td>\n",
       "    </tr>\n",
       "    <tr>\n",
       "      <th>mean</th>\n",
       "      <td>199.429945</td>\n",
       "      <td>149.544764</td>\n",
       "      <td>3006.672919</td>\n",
       "      <td>2011.444712</td>\n",
       "    </tr>\n",
       "    <tr>\n",
       "      <th>std</th>\n",
       "      <td>49.543177</td>\n",
       "      <td>28.498880</td>\n",
       "      <td>497.856998</td>\n",
       "      <td>6.669193</td>\n",
       "    </tr>\n",
       "    <tr>\n",
       "      <th>min</th>\n",
       "      <td>10.000000</td>\n",
       "      <td>46.000000</td>\n",
       "      <td>952.681761</td>\n",
       "      <td>2000.000000</td>\n",
       "    </tr>\n",
       "    <tr>\n",
       "      <th>25%</th>\n",
       "      <td>170.000000</td>\n",
       "      <td>131.000000</td>\n",
       "      <td>2669.313374</td>\n",
       "      <td>2006.000000</td>\n",
       "    </tr>\n",
       "    <tr>\n",
       "      <th>50%</th>\n",
       "      <td>200.000000</td>\n",
       "      <td>149.544764</td>\n",
       "      <td>2993.348283</td>\n",
       "      <td>2011.000000</td>\n",
       "    </tr>\n",
       "    <tr>\n",
       "      <th>75%</th>\n",
       "      <td>230.000000</td>\n",
       "      <td>168.000000</td>\n",
       "      <td>3342.151520</td>\n",
       "      <td>2017.000000</td>\n",
       "    </tr>\n",
       "    <tr>\n",
       "      <th>max</th>\n",
       "      <td>380.000000</td>\n",
       "      <td>246.000000</td>\n",
       "      <td>4610.973229</td>\n",
       "      <td>2023.000000</td>\n",
       "    </tr>\n",
       "  </tbody>\n",
       "</table>\n",
       "</div>"
      ],
      "text/plain": [
       "       engine_displacement   horsepower  vehicle_weight   model_year\n",
       "count          5824.000000  5824.000000     5824.000000  5824.000000\n",
       "mean            199.429945   149.544764     3006.672919  2011.444712\n",
       "std              49.543177    28.498880      497.856998     6.669193\n",
       "min              10.000000    46.000000      952.681761  2000.000000\n",
       "25%             170.000000   131.000000     2669.313374  2006.000000\n",
       "50%             200.000000   149.544764     2993.348283  2011.000000\n",
       "75%             230.000000   168.000000     3342.151520  2017.000000\n",
       "max             380.000000   246.000000     4610.973229  2023.000000"
      ]
     },
     "execution_count": 34,
     "metadata": {},
     "output_type": "execute_result"
    }
   ],
   "source": [
    "fill_trainmean.describe()"
   ]
  },
  {
   "cell_type": "code",
   "execution_count": 36,
   "id": "02d99fed-361d-49b2-b560-23ec13d8a366",
   "metadata": {},
   "outputs": [],
   "source": [
    "fill_train_mean_w0, fill_train_mean_w = train_linear_regression(fill_trainmean.values, y_train)"
   ]
  },
  {
   "cell_type": "code",
   "execution_count": 37,
   "id": "6314690a-8e04-4001-91cb-1c6e8917b0fe",
   "metadata": {},
   "outputs": [
    {
     "data": {
      "text/plain": [
       "(np.float64(28.925259951498806),\n",
       " array([ 0.00012093,  0.01030308, -0.00501009, -0.00023463]))"
      ]
     },
     "execution_count": 37,
     "metadata": {},
     "output_type": "execute_result"
    }
   ],
   "source": [
    "fill_train_mean_w0, fill_train_mean_w"
   ]
  },
  {
   "cell_type": "code",
   "execution_count": 38,
   "id": "7d967a91-693b-4ee2-b3c5-2c5d952eecf2",
   "metadata": {},
   "outputs": [
    {
     "name": "stdout",
     "output_type": "stream",
     "text": [
      "Train: 0.46244121379599645\n"
     ]
    }
   ],
   "source": [
    "# Y Train mean\n",
    "y_train_mean_pred = fill_train_mean_w0 + fill_trainmean.values.dot(fill_train_mean_w)\n",
    "print('Train:', rmse(y_train, y_train_mean_pred))"
   ]
  },
  {
   "cell_type": "code",
   "execution_count": 39,
   "id": "d50eb89b-a571-4835-9e5c-18c35457a430",
   "metadata": {},
   "outputs": [
    {
     "data": {
      "text/plain": [
       "<Axes: ylabel='Count'>"
      ]
     },
     "execution_count": 39,
     "metadata": {},
     "output_type": "execute_result"
    },
    {
     "data": {
      "image/png": "[encoded data removed]",
      "text/plain": [
       "<Figure size 640x480 with 1 Axes>"
      ]
     },
     "metadata": {},
     "output_type": "display_data"
    }
   ],
   "source": [
    "sns.histplot(y_train, bins=50)\n",
    "sns.histplot(y_train_mean_pred, bins=50)"
   ]
  },
  {
   "cell_type": "markdown",
   "id": "7624c239-9aa7-47f9-a22e-3b48631ef7bf",
   "metadata": {
    "jp-MarkdownHeadingCollapsed": true
   },
   "source": [
    "# Reg"
   ]
  },
  {
   "cell_type": "code",
   "execution_count": 55,
   "id": "bbae7768-9b4b-4b72-a678-6321e87c9ea0",
   "metadata": {},
   "outputs": [],
   "source": [
    "def train_linear_regression_reg(X, y, r=0.0):\n",
    "    ones = np.ones(X.shape[0])\n",
    "    X = np.column_stack([ones, X])\n",
    "\n",
    "    XTX = X.T.dot(X)\n",
    "    reg = r * np.eye(XTX.shape[0])\n",
    "    XTX = XTX + reg\n",
    "\n",
    "    XTX_inv = np.linalg.inv(XTX)\n",
    "    w = XTX_inv.dot(X.T).dot(y)\n",
    "    \n",
    "    return w[0], w[1:]"
   ]
  },
  {
   "cell_type": "code",
   "execution_count": 62,
   "id": "18f3cbe0-8045-4e53-8a32-dd93e8fcb0c3",
   "metadata": {},
   "outputs": [
    {
     "name": "stdout",
     "output_type": "stream",
     "text": [
      "(100, np.float64(0.5173782638840104), np.float64(0.52))\n",
      "(100, np.float64(0.517111552577136), np.float64(0.52))\n",
      "(100, np.float64(0.5187525130702144), np.float64(0.52))\n",
      "(100, np.float64(0.5222348802092666), np.float64(0.52))\n",
      "(100, np.float64(0.5228916092823519), np.float64(0.52))\n",
      "(100, np.float64(0.5229812979636583), np.float64(0.52))\n",
      "(100, np.float64(0.523063623381993), np.float64(0.52))\n"
     ]
    }
   ],
   "source": [
    "# Q4\n",
    "#X_train = prepare_X0(df_train)\n",
    "for r_ in [0, 0.01, 0.1, 1, 5, 10, 100]:\n",
    "    w_0, w = train_linear_regression_reg(fill_train0, y_train, r_)\n",
    "    y_pred = w_0 + fill_val0.dot(w)\n",
    "    print(( r,rmse(y_val, y_pred),round(rmse(y_val, y_pred),2)))"
   ]
  },
  {
   "cell_type": "markdown",
   "id": "a39ac670-8141-404e-9238-b0ee5fb09010",
   "metadata": {},
   "source": [
    "# Multiple Splitting"
   ]
  },
  {
   "cell_type": "code",
   "execution_count": 64,
   "id": "ed14e3c8-4c23-4647-8bab-688c5be2c178",
   "metadata": {},
   "outputs": [
    {
     "name": "stdout",
     "output_type": "stream",
     "text": [
      "train, seed :     0, rmse: 0.5206531296286018\n",
      "train, seed :     1, rmse: 0.5213388912861504\n",
      "train, seed :     2, rmse: 0.5228069974692388\n",
      "train, seed :     3, rmse: 0.5159516741085217\n",
      "train, seed :     4, rmse: 0.5109129460088697\n",
      "train, seed :     5, rmse: 0.5283406460156541\n",
      "train, seed :     6, rmse: 0.531391065815884\n",
      "train, seed :     7, rmse: 0.509067038737912\n",
      "train, seed :     8, rmse: 0.5147399129397889\n",
      "train, seed :     9, rmse: 0.5131865908276104\n"
     ]
    }
   ],
   "source": [
    "list_rmse = []\n",
    "for m_seed in [0, 1, 2, 3, 4, 5, 6, 7, 8, 9]:\n",
    "\n",
    "    df_train, df_val,no1_ = data_split(df_data,m_seed)\n",
    "\n",
    "    Y_train = df_train['fuel_efficiency_mpg'].values\n",
    "    Y_val = df_val['fuel_efficiency_mpg'].values\n",
    "    \n",
    "    del df_train['fuel_efficiency_mpg']\n",
    "    del df_val['fuel_efficiency_mpg']\n",
    "\n",
    "    X_train_m = prepare_X0(df_train)\n",
    "    X_val_m = prepare_X0(df_val)\n",
    "\n",
    "    w0, w = train_linear_regression(X_train_m,Y_train)\n",
    "    y_pred = w0 + X_val_m.dot(w)\n",
    "\n",
    "    val_rmse = rmse(Y_val, y_pred)\n",
    "    list_rmse.append(val_rmse)\n",
    "    \n",
    "    print('train, seed : %5s, rmse: %5s' % ( m_seed,val_rmse))\n",
    "    "
   ]
  },
  {
   "cell_type": "code",
   "execution_count": 68,
   "id": "0ad717c6-d45e-4001-9599-7f5438be0832",
   "metadata": {},
   "outputs": [
    {
     "data": {
      "text/plain": [
       "np.float64(0.006989446427001858)"
      ]
     },
     "execution_count": 68,
     "metadata": {},
     "output_type": "execute_result"
    }
   ],
   "source": [
    "# Q5\n",
    "np.std(list_rmse)"
   ]
  },
  {
   "cell_type": "code",
   "execution_count": 98,
   "id": "bed9286b-4ab9-4843-99fc-1922b3730608",
   "metadata": {},
   "outputs": [
    {
     "name": "stdout",
     "output_type": "stream",
     "text": [
      "rmse: 0.4982088124928206\n"
     ]
    }
   ],
   "source": [
    "df_train, df_val,df_test = data_split(df_data,9)\n",
    "\n",
    "df_tmp = pd.concat([df_train, df_val])\n",
    "\n",
    "Y_train = df_tmp['fuel_efficiency_mpg'].values\n",
    "Y_test = df_test['fuel_efficiency_mpg'].values\n",
    "\n",
    "del df_tmp['fuel_efficiency_mpg']\n",
    "del df_test['fuel_efficiency_mpg']\n",
    "\n",
    "X_train = prepare_X0(df_tmp)\n",
    "\n",
    "w0, w = train_linear_regression_reg(X_train,Y_train,0.001)\n",
    "y_pred = w0 + df_test.dot(w)\n",
    "\n",
    "val_rmse = rmse(Y_test, y_pred)\n",
    "    \n",
    "print('rmse: %5s' % (val_rmse))\n",
    "    "
   ]
  }
 ],
 "metadata": {
  "kernelspec": {
   "display_name": "Python 3 (ipykernel)",
   "language": "python",
   "name": "python3"
  },
  "language_info": {
   "codemirror_mode": {
    "name": "ipython",
    "version": 3
   },
   "file_extension": ".py",
   "mimetype": "text/x-python",
   "name": "python",
   "nbconvert_exporter": "python",
   "pygments_lexer": "ipython3",
   "version": "3.12.9"
  }
 },
 "nbformat": 4,
 "nbformat_minor": 5
}
